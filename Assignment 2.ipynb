{
  "nbformat": 4,
  "nbformat_minor": 0,
  "metadata": {
    "colab": {
      "name": "Copy of Assignment 2.ipynb",
      "provenance": [],
      "authorship_tag": "ABX9TyNnhVwoGl8zUGGcPGK2eObw",
      "include_colab_link": true
    },
    "kernelspec": {
      "name": "python3",
      "display_name": "Python 3"
    }
  },
  "cells": [
    {
      "cell_type": "markdown",
      "metadata": {
        "id": "view-in-github",
        "colab_type": "text"
      },
      "source": [
        "<a href=\"https://colab.research.google.com/github/Nandini254/7027/blob/master/Copy_of_Assignment_2.ipynb\" target=\"_parent\"><img src=\"https://colab.research.google.com/assets/colab-badge.svg\" alt=\"Open In Colab\"/></a>"
      ]
    },
    {
      "cell_type": "code",
      "metadata": {
        "id": "vEugaQEdL6zl",
        "colab_type": "code",
        "colab": {
          "base_uri": "https://localhost:8080/",
          "height": 51
        },
        "outputId": "86d83dbc-c27b-40ca-ff4e-e535c5d8f66b"
      },
      "source": [
        "#Program to check whether a person is eligible for voting or not using if-else\n",
        "a=int(input(\"enter the value of a\"))\n",
        "if(a>18):\n",
        "   print(\"a is eligible for voting\")\n",
        "else:\n",
        "   print(\"a is not eligible for voting\")"
      ],
      "execution_count": null,
      "outputs": [
        {
          "output_type": "stream",
          "text": [
            "enter the value of a5\n",
            "a is not eligible for voting\n"
          ],
          "name": "stdout"
        }
      ]
    },
    {
      "cell_type": "code",
      "metadata": {
        "id": "-P9p9U9m5g0w",
        "colab_type": "code",
        "colab": {
          "base_uri": "https://localhost:8080/",
          "height": 51
        },
        "outputId": "c02b9a72-208a-4573-e843-99b74f882bb0"
      },
      "source": [
        "#Program to check whether a number is even or odd using if-else\n",
        "a=int(input(\"Enter the value of a\"))\n",
        "if(a%2)==0:\n",
        "   print(\"a is even number\")\n",
        "else:\n",
        "   print(\"a is odd number\")"
      ],
      "execution_count": null,
      "outputs": [
        {
          "output_type": "stream",
          "text": [
            "Enter the value of a4\n",
            "a is even number\n"
          ],
          "name": "stdout"
        }
      ]
    },
    {
      "cell_type": "code",
      "metadata": {
        "id": "m9rUHfA569Rm",
        "colab_type": "code",
        "colab": {
          "base_uri": "https://localhost:8080/",
          "height": 69
        },
        "outputId": "06bc1bba-092b-467a-8d81-fb6f4fc4a293"
      },
      "source": [
        "#Program to print the string in reverse order by using string indexing\n",
        "a=str(input(\"Enter a string:\"))\n",
        "print(\"reverse of the string is:\")\n",
        "print(a[::-1])"
      ],
      "execution_count": null,
      "outputs": [
        {
          "output_type": "stream",
          "text": [
            "Enter a string:Nandu\n",
            "reverse of the string is:\n",
            "udnaN\n"
          ],
          "name": "stdout"
        }
      ]
    },
    {
      "cell_type": "code",
      "metadata": {
        "id": "VVQTNWDF8bu9",
        "colab_type": "code",
        "colab": {
          "base_uri": "https://localhost:8080/",
          "height": 51
        },
        "outputId": "59e0414c-f8af-4491-b7b5-cc02e74a7643"
      },
      "source": [
        "#Program to check whether a number is positive or not using if-else\n",
        "n=int(input(\"Enter number\"))\n",
        "if(n>0):\n",
        "   print(\"number is positive\")\n",
        "else:\n",
        "   print(\"number is negative\")"
      ],
      "execution_count": null,
      "outputs": [
        {
          "output_type": "stream",
          "text": [
            "Enter number6\n",
            "number is positive\n"
          ],
          "name": "stdout"
        }
      ]
    },
    {
      "cell_type": "code",
      "metadata": {
        "id": "TkIt1ZBy870L",
        "colab_type": "code",
        "colab": {
          "base_uri": "https://localhost:8080/",
          "height": 86
        },
        "outputId": "f74bbab0-d923-4178-e0bb-da6452017c99"
      },
      "source": [
        "#Program to find the roots of a quadratic equation using elif\n",
        "import math\n",
        "a=float(input(\"enter the coefficient a\"))\n",
        "b=float(input(\"enter the coefficient b\"))\n",
        "c=float(input(\"enter the coefficient c\"))\n",
        "d=b*b-4*a*c;\n",
        "if d>0:\n",
        "    r1=(-b+math.sqrt(d))/(2*a)\n",
        "    r2=(-b-math.sqrt(d))/(2*a)\n",
        "    print(\"roots are equal and unequal\",r1,\"and\",r2)\n",
        "elif d==0:\n",
        "    r1=-b/(2*a)\n",
        "    print(\"roots are real and same\",r1)\n",
        "else:\n",
        "    print(\"no real roots are there\")"
      ],
      "execution_count": null,
      "outputs": [
        {
          "output_type": "stream",
          "text": [
            "enter the coefficient a5\n",
            "enter the coefficient b6\n",
            "enter the coefficient c3\n",
            "no real roots are there\n"
          ],
          "name": "stdout"
        }
      ]
    },
    {
      "cell_type": "code",
      "metadata": {
        "id": "uvGBHIvE-kAX",
        "colab_type": "code",
        "colab": {
          "base_uri": "https://localhost:8080/",
          "height": 51
        },
        "outputId": "97baf3e1-3661-4eb9-dc0d-1dd904092c1e"
      },
      "source": [
        "#Program to check whether a number is positive or negative or zero using nested-if\n",
        "num=float (input(\"Enter a number\"))\n",
        "if num>=0:\n",
        "   if num==0:\n",
        "       print(\"zero\")\n",
        "   else:\n",
        "       print(\"positive number\")\n",
        "else:\n",
        "   print(\"negative number\")"
      ],
      "execution_count": null,
      "outputs": [
        {
          "output_type": "stream",
          "text": [
            "Enter a number5\n",
            "positive number\n"
          ],
          "name": "stdout"
        }
      ]
    },
    {
      "cell_type": "code",
      "metadata": {
        "id": "SyKOmDP3_PkI",
        "colab_type": "code",
        "colab": {
          "base_uri": "https://localhost:8080/",
          "height": 51
        },
        "outputId": "0443bf36-5348-45bc-c5d4-b562b1afeb20"
      },
      "source": [
        "#Program to accept a number(1-5) and print the given number in words\n",
        "number=(\" \",\"One\",\"Two\",\"Three\",\"Four\",\"Five\")\n",
        "n=int(input(\"enter a number\"))\n",
        "print(number[n])"
      ],
      "execution_count": null,
      "outputs": [
        {
          "output_type": "stream",
          "text": [
            "enter a number3\n",
            "Three\n"
          ],
          "name": "stdout"
        }
      ]
    },
    {
      "cell_type": "code",
      "metadata": {
        "id": "jQvshZE-_8Yr",
        "colab_type": "code",
        "colab": {
          "base_uri": "https://localhost:8080/",
          "height": 51
        },
        "outputId": "f98bd6c1-9a2c-4cf0-eba7-c4ae509a1488"
      },
      "source": [
        "#Program to read a character and print the given character is vowel or constant \n",
        "ch=input(\"Enter a character\")\n",
        "if(ch=='A' or ch=='a' or ch=='E' or ch=='e' or ch=='I' or ch=='i' or ch=='O' or ch=='o' or ch=='U' or ch=='u'):\n",
        "   print(ch,\"is a vowel\")\n",
        "else:\n",
        "   print(ch,\"is a consonant\")"
      ],
      "execution_count": null,
      "outputs": [
        {
          "output_type": "stream",
          "text": [
            "Enter a characterN\n",
            "N is a consonant\n"
          ],
          "name": "stdout"
        }
      ]
    }
  ]
}
