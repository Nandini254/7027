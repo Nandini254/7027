{
  "nbformat": 4,
  "nbformat_minor": 0,
  "metadata": {
    "colab": {
      "name": "Assignment 4.ipynb",
      "provenance": [],
      "authorship_tag": "ABX9TyMqXZA7so1vNhopJnhb4ZR6",
      "include_colab_link": true
    },
    "kernelspec": {
      "name": "python3",
      "display_name": "Python 3"
    }
  },
  "cells": [
    {
      "cell_type": "markdown",
      "metadata": {
        "id": "view-in-github",
        "colab_type": "text"
      },
      "source": [
        "<a href=\"https://colab.research.google.com/github/Nandini254/7027/blob/master/Assignment_4.ipynb\" target=\"_parent\"><img src=\"https://colab.research.google.com/assets/colab-badge.svg\" alt=\"Open In Colab\"/></a>"
      ]
    },
    {
      "cell_type": "code",
      "metadata": {
        "id": "DeeozFgx2p7h",
        "colab_type": "code",
        "colab": {
          "base_uri": "https://localhost:8080/",
          "height": 34
        },
        "outputId": "2646c24c-52c3-4553-a7a6-7efd9962bf38"
      },
      "source": [
        " \n",
        "#First and Last digit\n",
        "def firstDigit(n):\n",
        "     while n>=10:\n",
        "         n=n/10;\n",
        "     return int(n)\n",
        "def lastDigit(n):\n",
        "     return(n%10)\n",
        "n=98562;\n",
        "print(firstDigit (n),end=\" \")\n",
        "print(lastDigit (n))"
      ],
      "execution_count": null,
      "outputs": [
        {
          "output_type": "stream",
          "text": [
            "9 2\n"
          ],
          "name": "stdout"
        }
      ]
    },
    {
      "cell_type": "code",
      "metadata": {
        "id": "_D3i7okADfrt",
        "colab_type": "code",
        "colab": {}
      },
      "source": [
        ""
      ],
      "execution_count": null,
      "outputs": []
    },
    {
      "cell_type": "code",
      "metadata": {
        "id": "hIijp4oM5EUx",
        "colab_type": "code",
        "colab": {
          "base_uri": "https://localhost:8080/",
          "height": 34
        },
        "outputId": "32be7d72-27be-4688-839f-bc73f6503df8"
      },
      "source": [
        " \n",
        "#Fibonacci numbers\n",
        "def printFibonacciNumbers(n):\n",
        "     f1=0\n",
        "     f2=1\n",
        "     if(n<1):\n",
        "       return\n",
        "     for x in range(0,n):\n",
        "        print(f2,end=\" \")\n",
        "        next=f1+f2\n",
        "        f1=f2\n",
        "        f2=next\n",
        "printFibonacciNumbers(7)"
      ],
      "execution_count": null,
      "outputs": [
        {
          "output_type": "stream",
          "text": [
            "1 1 2 3 5 8 13 "
          ],
          "name": "stdout"
        }
      ]
    },
    {
      "cell_type": "code",
      "metadata": {
        "id": "T6Stcwn9DlLz",
        "colab_type": "code",
        "colab": {
          "base_uri": "https://localhost:8080/",
          "height": 311
        },
        "outputId": "3c36a4bb-67d0-4875-c396-28752aebc73a"
      },
      "source": [
        "#Marks of students\n",
        "n=int(input(\"Enter number of students\"))\n",
        "if(n>=0):\n",
        "     student=[\"member\"]\n",
        "     for i in range(0,n):\n",
        "          name=input('Enter the name of student')\n",
        "          print(name)\n",
        "          mark=int(input('Enter the marks out of 100'))\n",
        "          print(mark)\n",
        "          if(mark<40):\n",
        "               student.append(name)\n",
        "               print(\"This student has failed\")\n",
        "          else:\n",
        "               print(\"You have passed\")\n",
        "     for i in range(1,len(student)):\n",
        "          print(student[i])\n",
        "else:\n",
        "     print(\"Invalid Input\")"
      ],
      "execution_count": null,
      "outputs": [
        {
          "output_type": "stream",
          "text": [
            "Enter number of students3\n",
            "Enter the name of studentArjun\n",
            "Arjun\n",
            "Enter the marks out of 10060\n",
            "60\n",
            "You have passed\n",
            "Enter the name of studentArshi\n",
            "Arshi\n",
            "Enter the marks out of 10035\n",
            "35\n",
            "This student has failed\n",
            "Enter the name of studentKushi\n",
            "Kushi\n",
            "Enter the marks out of 10098\n",
            "98\n",
            "You have passed\n",
            "Arshi\n"
          ],
          "name": "stdout"
        }
      ]
    },
    {
      "cell_type": "code",
      "metadata": {
        "id": "OKJF1KpH8SR7",
        "colab_type": "code",
        "colab": {
          "base_uri": "https://localhost:8080/",
          "height": 190
        },
        "outputId": "7f6ffedf-7080-4436-c402-962fb161b24d"
      },
      "source": [
        " \n",
        "#Multiplication table\n",
        "num=7\n",
        "for i in range(1,11):\n",
        "   print(num,'x',i,'=',num*i)"
      ],
      "execution_count": null,
      "outputs": [
        {
          "output_type": "stream",
          "text": [
            "7 x 1 = 7\n",
            "7 x 2 = 14\n",
            "7 x 3 = 21\n",
            "7 x 4 = 28\n",
            "7 x 5 = 35\n",
            "7 x 6 = 42\n",
            "7 x 7 = 49\n",
            "7 x 8 = 56\n",
            "7 x 9 = 63\n",
            "7 x 10 = 70\n"
          ],
          "name": "stdout"
        }
      ]
    },
    {
      "cell_type": "code",
      "metadata": {
        "id": "JYKXcScPGQqi",
        "colab_type": "code",
        "colab": {
          "base_uri": "https://localhost:8080/",
          "height": 69
        },
        "outputId": "b1946af0-c4f6-4bdf-b9e5-f562a41c4c52"
      },
      "source": [
        "#Taking number\n",
        "sum=0\n",
        "c=0\n",
        "num=int(input(\"Enter the number\"))\n",
        "while num!=-1:\n",
        "    c+=1\n",
        "    sum+=num\n",
        "    num=int(input())\n",
        "print(sum/c)"
      ],
      "execution_count": null,
      "outputs": [
        {
          "output_type": "stream",
          "text": [
            "Enter the number4\n",
            "-1\n",
            "4.0\n"
          ],
          "name": "stdout"
        }
      ]
    }
  ]
}