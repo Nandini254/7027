{
  "nbformat": 4,
  "nbformat_minor": 0,
  "metadata": {
    "colab": {
      "name": "Assignment 6.ipynb",
      "provenance": [],
      "authorship_tag": "ABX9TyN7tDS/l6UMbm5DEmee+NA5",
      "include_colab_link": true
    },
    "kernelspec": {
      "name": "python3",
      "display_name": "Python 3"
    }
  },
  "cells": [
    {
      "cell_type": "markdown",
      "metadata": {
        "id": "view-in-github",
        "colab_type": "text"
      },
      "source": [
        "<a href=\"https://colab.research.google.com/github/Nandini254/7027/blob/master/Assignment_6.ipynb\" target=\"_parent\"><img src=\"https://colab.research.google.com/assets/colab-badge.svg\" alt=\"Open In Colab\"/></a>"
      ]
    },
    {
      "cell_type": "code",
      "metadata": {
        "id": "vEugaQEdL6zl",
        "colab_type": "code",
        "colab": {
          "base_uri": "https://localhost:8080/",
          "height": 1000
        },
        "outputId": "733e7518-f8bc-4305-ea49-411e806a24bb"
      },
      "source": [
        "#To print the integers from 1 to 100\n",
        "def fizz_buzz(num):\n",
        "    if num%3==0 and num%5==0:\n",
        "        return 'FizzBuzz'\n",
        "    elif num%3==0:\n",
        "        return 'Fizz'\n",
        "    elif num%5==0:\n",
        "        return 'Buzz'\n",
        "    else:\n",
        "        return num\n",
        "for n in range(1,100):\n",
        "    print(fizz_buzz(n))"
      ],
      "execution_count": null,
      "outputs": [
        {
          "output_type": "stream",
          "text": [
            "1\n",
            "2\n",
            "Fizz\n",
            "4\n",
            "Buzz\n",
            "Fizz\n",
            "7\n",
            "8\n",
            "Fizz\n",
            "Buzz\n",
            "11\n",
            "Fizz\n",
            "13\n",
            "14\n",
            "FizzBuzz\n",
            "16\n",
            "17\n",
            "Fizz\n",
            "19\n",
            "Buzz\n",
            "Fizz\n",
            "22\n",
            "23\n",
            "Fizz\n",
            "Buzz\n",
            "26\n",
            "Fizz\n",
            "28\n",
            "29\n",
            "FizzBuzz\n",
            "31\n",
            "32\n",
            "Fizz\n",
            "34\n",
            "Buzz\n",
            "Fizz\n",
            "37\n",
            "38\n",
            "Fizz\n",
            "Buzz\n",
            "41\n",
            "Fizz\n",
            "43\n",
            "44\n",
            "FizzBuzz\n",
            "46\n",
            "47\n",
            "Fizz\n",
            "49\n",
            "Buzz\n",
            "Fizz\n",
            "52\n",
            "53\n",
            "Fizz\n",
            "Buzz\n",
            "56\n",
            "Fizz\n",
            "58\n",
            "59\n",
            "FizzBuzz\n",
            "61\n",
            "62\n",
            "Fizz\n",
            "64\n",
            "Buzz\n",
            "Fizz\n",
            "67\n",
            "68\n",
            "Fizz\n",
            "Buzz\n",
            "71\n",
            "Fizz\n",
            "73\n",
            "74\n",
            "FizzBuzz\n",
            "76\n",
            "77\n",
            "Fizz\n",
            "79\n",
            "Buzz\n",
            "Fizz\n",
            "82\n",
            "83\n",
            "Fizz\n",
            "Buzz\n",
            "86\n",
            "Fizz\n",
            "88\n",
            "89\n",
            "FizzBuzz\n",
            "91\n",
            "92\n",
            "Fizz\n",
            "94\n",
            "Buzz\n",
            "Fizz\n",
            "97\n",
            "98\n",
            "Fizz\n"
          ],
          "name": "stdout"
        }
      ]
    },
    {
      "cell_type": "code",
      "metadata": {
        "id": "5MY_Y0MKzfHt",
        "colab_type": "code",
        "colab": {
          "base_uri": "https://localhost:8080/",
          "height": 71
        },
        "outputId": "56dd6ee1-61d3-4f20-dd04-307167800634"
      },
      "source": [
        "#To remove consecutive duplicates from list\n",
        "from itertools import groupby\n",
        "test_list=[1,4,4,4,5,6,7,4,3,3,9]\n",
        "print(\"The original list is:\"+str(test_list))\n",
        "res=[i[0] for i in groupby(test_list)]\n",
        "print(\"The list after removing consecutive duplicates:\"+str(res))"
      ],
      "execution_count": null,
      "outputs": [
        {
          "output_type": "stream",
          "text": [
            "The original list is:[1, 4, 4, 4, 5, 6, 7, 4, 3, 3, 9]\n",
            "The list after removing consecutive duplicates:[1, 4, 5, 6, 7, 4, 3, 9]\n"
          ],
          "name": "stdout"
        }
      ]
    },
    {
      "cell_type": "code",
      "metadata": {
        "id": "tuKmLc4O0Qlc",
        "colab_type": "code",
        "colab": {
          "base_uri": "https://localhost:8080/",
          "height": 34
        },
        "outputId": "cb0c4f4e-b3dc-4595-f200-718b2f2a265b"
      },
      "source": [
        "#To find unique element from a list\n",
        "def unique_list(l):\n",
        "    x=[]\n",
        "    for a in l:\n",
        "       if a not in x:\n",
        "           x.append(a)\n",
        "    return x\n",
        "print(unique_list([1,2,2,3,3,4,4,5]))"
      ],
      "execution_count": null,
      "outputs": [
        {
          "output_type": "stream",
          "text": [
            "[1, 2, 3, 4, 5]\n"
          ],
          "name": "stdout"
        }
      ]
    },
    {
      "cell_type": "code",
      "metadata": {
        "id": "QhjfBB8T1BFg",
        "colab_type": "code",
        "colab": {
          "base_uri": "https://localhost:8080/",
          "height": 54
        },
        "outputId": "cf8b0ec0-6196-4d22-c2ef-3317c102fadf"
      },
      "source": [
        "#To check whether a number is in a given range\n",
        "def test_range(n):\n",
        "     if n in range(3,9):\n",
        "          print(\"%s is in the range\"%str(n))\n",
        "     else:\n",
        "          print(\"The number is outside the given range.\")\n",
        "test_range(12)"
      ],
      "execution_count": null,
      "outputs": [
        {
          "output_type": "stream",
          "text": [
            "The number is outside the given range.\n"
          ],
          "name": "stdout"
        }
      ]
    },
    {
      "cell_type": "code",
      "metadata": {
        "id": "RHNsWGx11mbF",
        "colab_type": "code",
        "colab": {
          "base_uri": "https://localhost:8080/",
          "height": 589
        },
        "outputId": "427c4a80-7388-4b34-f279-30466ba3a378"
      },
      "source": [
        "#Accepts a string and calculates the number of uppercase letter and lowercase letters\n",
        "def count_upper_lower(string):\n",
        "     lowercase_letter_count=0\n",
        "     uppercase_letter_count=0\n",
        "     for letter in string:\n",
        "         if letter.isupper():\n",
        "              uppercase_letter_count+=1\n",
        "         elif letter.islower():\n",
        "              lowercase_letter_count+=1\n",
        "              print(uppercase_letter_count, lowercase_letter_count)\n",
        "count_upper_lower(\"Hello Mr.Rogers,how are you this fine Tuesday?\")"
      ],
      "execution_count": 6,
      "outputs": [
        {
          "output_type": "stream",
          "text": [
            "1 1\n",
            "1 2\n",
            "1 3\n",
            "1 4\n",
            "2 5\n",
            "3 6\n",
            "3 7\n",
            "3 8\n",
            "3 9\n",
            "3 10\n",
            "3 11\n",
            "3 12\n",
            "3 13\n",
            "3 14\n",
            "3 15\n",
            "3 16\n",
            "3 17\n",
            "3 18\n",
            "3 19\n",
            "3 20\n",
            "3 21\n",
            "3 22\n",
            "3 23\n",
            "3 24\n",
            "3 25\n",
            "3 26\n",
            "3 27\n",
            "4 28\n",
            "4 29\n",
            "4 30\n",
            "4 31\n",
            "4 32\n",
            "4 33\n"
          ],
          "name": "stdout"
        }
      ]
    }
  ]
}