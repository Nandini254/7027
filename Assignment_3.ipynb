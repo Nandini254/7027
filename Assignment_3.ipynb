{
  "nbformat": 4,
  "nbformat_minor": 0,
  "metadata": {
    "colab": {
      "name": "Assignment 3.ipynb",
      "provenance": [],
      "authorship_tag": "ABX9TyPXPtbESDjA4hSb2YqXpg4w",
      "include_colab_link": true
    },
    "kernelspec": {
      "name": "python3",
      "display_name": "Python 3"
    }
  },
  "cells": [
    {
      "cell_type": "markdown",
      "metadata": {
        "id": "view-in-github",
        "colab_type": "text"
      },
      "source": [
        "<a href=\"https://colab.research.google.com/github/Nandini254/7027/blob/master/Assignment_3.ipynb\" target=\"_parent\"><img src=\"https://colab.research.google.com/assets/colab-badge.svg\" alt=\"Open In Colab\"/></a>"
      ]
    },
    {
      "cell_type": "code",
      "metadata": {
        "id": "lsI_84ekwK0F",
        "colab_type": "code",
        "colab": {
          "base_uri": "https://localhost:8080/",
          "height": 89
        },
        "outputId": "72d3111f-c051-46f7-9565-031b2d50b663"
      },
      "source": [
        "#To find area of regular polygon\n",
        "from math import tan,pi\n",
        "n_sides=int(input(\"Input number of sides:\"))\n",
        "s_length=float(input(\"Input the length of a side:\"))\n",
        "p_area=n_sides*(s_length**2)/(4*tan(pi/n_sides))\n",
        "print(\"The area of the polygon is:\",p_area)"
      ],
      "execution_count": null,
      "outputs": [
        {
          "output_type": "stream",
          "text": [
            "Input number of sides:5\n",
            "Input the length of a side:4\n",
            "The area of the polygon is: 27.52763840942347\n"
          ],
          "name": "stdout"
        }
      ]
    },
    {
      "cell_type": "code",
      "metadata": {
        "id": "Op068dgGuwh2",
        "colab_type": "code",
        "colab": {
          "base_uri": "https://localhost:8080/",
          "height": 71
        },
        "outputId": "6d62faa9-b46d-47df-ccd1-6b74fc7bab01"
      },
      "source": [
        " \n",
        "#To find area of a circle using math module\n",
        "import math \n",
        "r=float(input(\"Enter the radius of the circle: \"))\n",
        "area=math.pi* r * r\n",
        "print(\"%.2f\" %area)"
      ],
      "execution_count": null,
      "outputs": [
        {
          "output_type": "stream",
          "text": [
            "Enter the radius of the circle: 6\n",
            "113.10\n"
          ],
          "name": "stdout"
        }
      ]
    },
    {
      "cell_type": "code",
      "metadata": {
        "id": "8WtTuBU4xAId",
        "colab_type": "code",
        "colab": {
          "base_uri": "https://localhost:8080/",
          "height": 89
        },
        "outputId": "efa89dbc-3943-497b-a7db-553ab24105db"
      },
      "source": [
        "#To find Area of a Segment of a circle Formula using math module\n",
        "from math import sqrt\n",
        "diamStr=input(\"Enter the length of the diameter: \")\n",
        "diameter=int(diamStr)\n",
        "chordStr=input(\"Enter the chord length:    \")\n",
        "chord=int(chordStr)\n",
        "radius=(diameter/2)\n",
        "s=sqrt(diameter**2+chord**2)\n",
        "h=(s/2-radius)\n",
        "i=(2/3*chord*h)\n",
        "j=(h**3/2*chord)\n",
        "area=(i+j)\n",
        "print(area)"
      ],
      "execution_count": null,
      "outputs": [
        {
          "output_type": "stream",
          "text": [
            "Enter the length of the diameter: 5\n",
            "Enter the chord length:    4\n",
            "2.561435202129743\n"
          ],
          "name": "stdout"
        }
      ]
    },
    {
      "cell_type": "code",
      "metadata": {
        "id": "YXTc4T_PyU40",
        "colab_type": "code",
        "colab": {
          "base_uri": "https://localhost:8080/",
          "height": 51
        },
        "outputId": "69bb939a-c7bd-4366-9eb0-86988fcd4bcf"
      },
      "source": [
        "#To generate random numbers from list\n",
        "import random\n",
        "print(\"A random from list is\")\n",
        "print(random.choice([100,1,2,3,30,40]))"
      ],
      "execution_count": null,
      "outputs": [
        {
          "output_type": "stream",
          "text": [
            "A random from list is\n",
            "40\n"
          ],
          "name": "stdout"
        }
      ]
    },
    {
      "cell_type": "code",
      "metadata": {
        "id": "963Tet6tQEPj",
        "colab_type": "code",
        "colab": {
          "base_uri": "https://localhost:8080/",
          "height": 54
        },
        "outputId": "b7f6384a-0ec7-4454-b77b-906a6ef4e0f2"
      },
      "source": [
        "#To generate random numbers between 1,10000 and difference between each random number is 50\n",
        "import random\n",
        "print(\"the random numbers between 1 to 10000\",random.randrange(1,10000,50))"
      ],
      "execution_count": null,
      "outputs": [
        {
          "output_type": "stream",
          "text": [
            "the random numbers between 1 to 10000 9751\n"
          ],
          "name": "stdout"
        }
      ]
    },
    {
      "cell_type": "code",
      "metadata": {
        "id": "Q_UVx0pWQkVc",
        "colab_type": "code",
        "colab": {
          "base_uri": "https://localhost:8080/",
          "height": 227
        },
        "outputId": "7b089b58-22ed-4482-b56c-52e40610c52f"
      },
      "source": [
        "#calculate by using math module\n",
        "import math\n",
        "print(\"the value of sin(60) is\",math.sin(60))\n",
        "print(\"the value of cos(pi) is\",math.cos(math.pi))\n",
        "print(\"the value of tan(90) is\",math.tan(90))\n",
        "print(\"the angle of sin(0.8660254037844386) is\",math.degrees(math.asin(0.8660254037844386)))\n",
        "print(\"the value of 5^8 is\",5**8)\n",
        "print(\"the value of squareroot of 400 is\",math.sqrt(400))\n",
        "print(\"the value of 5^e is\",5**math.e)\n",
        "print(\"the value of log(1024) base 2 is\",math.log(1024,(2)))\n",
        "print(\"the value of log(1024) base 10 is\",math.log(1024,(10)))\n",
        "print(\"the value of 23.56 is\",math.floor(23.56))\n",
        "print(\"the value of 23.56 is\",math.ceil(23.56))"
      ],
      "execution_count": null,
      "outputs": [
        {
          "output_type": "stream",
          "text": [
            "the value of sin(60) is -0.3048106211022167\n",
            "the value of cos(pi) is -1.0\n",
            "the value of tan(90) is -1.995200412208242\n",
            "the angle of sin(0.8660254037844386) is 59.99999999999999\n",
            "the value of 5^8 is 390625\n",
            "the value of squareroot of 400 is 20.0\n",
            "the value of 5^e is 79.43235916621322\n",
            "the value of log(1024) base 2 is 10.0\n",
            "the value of log(1024) base 10 is 3.0102999566398116\n",
            "the value of 23.56 is 23\n",
            "the value of 23.56 is 24\n"
          ],
          "name": "stdout"
        }
      ]
    }
  ]
}