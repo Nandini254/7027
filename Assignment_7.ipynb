{
  "nbformat": 4,
  "nbformat_minor": 0,
  "metadata": {
    "colab": {
      "name": "Assignment 7.ipynb",
      "provenance": [],
      "authorship_tag": "ABX9TyMczcZApl4xXMsui9M8W7SA",
      "include_colab_link": true
    },
    "kernelspec": {
      "name": "python3",
      "display_name": "Python 3"
    }
  },
  "cells": [
    {
      "cell_type": "markdown",
      "metadata": {
        "id": "view-in-github",
        "colab_type": "text"
      },
      "source": [
        "<a href=\"https://colab.research.google.com/github/Nandini254/7027/blob/master/Assignment_7.ipynb\" target=\"_parent\"><img src=\"https://colab.research.google.com/assets/colab-badge.svg\" alt=\"Open In Colab\"/></a>"
      ]
    },
    {
      "cell_type": "code",
      "metadata": {
        "id": "AkP-ZBJy8yNs",
        "colab_type": "code",
        "colab": {
          "base_uri": "https://localhost:8080/",
          "height": 51
        },
        "outputId": "3ee72442-1f66-4c5f-8f6c-bfb50f706a9a"
      },
      "source": [
        "#Dictionary is a mutable data type in python.A python dictionary is a collection of key and value pairs seperated by a colon.\n",
        "mydict={'StuName':'Nandu','StuAge':'18','StuCity':'Anantapur'}\n",
        "print(\"Student Age is:\",mydict['StuAge'])\n",
        "print(\"Student City is:\",mydict['StuCity'])"
      ],
      "execution_count": null,
      "outputs": [
        {
          "output_type": "stream",
          "text": [
            "Student Age is: 18\n",
            "Student City is: Anantapur\n"
          ],
          "name": "stdout"
        }
      ]
    },
    {
      "cell_type": "code",
      "metadata": {
        "id": "KTYS2K0r-ZCx",
        "colab_type": "code",
        "colab": {
          "base_uri": "https://localhost:8080/",
          "height": 34
        },
        "outputId": "c2f7a4d7-672d-4c93-e802-481ad68b4da9"
      },
      "source": [
        "#To sum all the items in a list\n",
        "def sum_list(items):\n",
        "    sum_numbers=0\n",
        "    for x in items:\n",
        "         sum_numbers += x\n",
        "    return sum_numbers\n",
        "print(sum_list([4,-20,6]))"
      ],
      "execution_count": null,
      "outputs": [
        {
          "output_type": "stream",
          "text": [
            "-10\n"
          ],
          "name": "stdout"
        }
      ]
    },
    {
      "cell_type": "code",
      "metadata": {
        "id": "g2U7HjIX_NIS",
        "colab_type": "code",
        "colab": {
          "base_uri": "https://localhost:8080/",
          "height": 34
        },
        "outputId": "44f751d5-9ee0-4085-ecac-89e2689c00b3"
      },
      "source": [
        "#To create a list of empty dictionaries\n",
        "n=4\n",
        "l=[{ } for _ in range(n)]\n",
        "print(l)"
      ],
      "execution_count": null,
      "outputs": [
        {
          "output_type": "stream",
          "text": [
            "[{}, {}, {}, {}]\n"
          ],
          "name": "stdout"
        }
      ]
    },
    {
      "cell_type": "code",
      "metadata": {
        "id": "pFayLF9K_wis",
        "colab_type": "code",
        "colab": {
          "base_uri": "https://localhost:8080/",
          "height": 34
        },
        "outputId": "9702b5b8-3f47-4e1c-92e3-9fb112deca34"
      },
      "source": [
        "#To access dictionary keys element by index\n",
        "num={'physics':80,'math':90,'chemistry':86}\n",
        "print(list(num)[2])"
      ],
      "execution_count": null,
      "outputs": [
        {
          "output_type": "stream",
          "text": [
            "chemistry\n"
          ],
          "name": "stdout"
        }
      ]
    },
    {
      "cell_type": "code",
      "metadata": {
        "id": "lYn9jv9UAqKI",
        "colab_type": "code",
        "colab": {
          "base_uri": "https://localhost:8080/",
          "height": 69
        },
        "outputId": "d4ad39a8-21c1-48e4-a1ef-525769c015da"
      },
      "source": [
        "#To iterate over dictionaries using for loops\n",
        "d={'blue':4,'Green':2,'Blue':5}\n",
        "for color_key,value in d.items():\n",
        "    print(color_key,'corresponds to',d[color_key])"
      ],
      "execution_count": null,
      "outputs": [
        {
          "output_type": "stream",
          "text": [
            "blue corresponds to 4\n",
            "Green corresponds to 2\n",
            "Blue corresponds to 5\n"
          ],
          "name": "stdout"
        }
      ]
    },
    {
      "cell_type": "code",
      "metadata": {
        "id": "Hbc9GM_3BiN1",
        "colab_type": "code",
        "colab": {
          "base_uri": "https://localhost:8080/",
          "height": 34
        },
        "outputId": "b8248d36-9291-49d7-80b7-38afb17441c6"
      },
      "source": [
        "#To sum all the items in a dictionary\n",
        "my_dict={'num1':10,'num2':-54,'num3':50}\n",
        "print(sum(my_dict.values()))"
      ],
      "execution_count": null,
      "outputs": [
        {
          "output_type": "stream",
          "text": [
            "6\n"
          ],
          "name": "stdout"
        }
      ]
    },
    {
      "cell_type": "code",
      "metadata": {
        "id": "Lc5jctZtCTPT",
        "colab_type": "code",
        "colab": {
          "base_uri": "https://localhost:8080/",
          "height": 54
        },
        "outputId": "ac5fee7a-28a0-41bf-de64-72861d485d7f"
      },
      "source": [
        "#Concatenate dictionaries to create a new one\n",
        "dic1={1:10,2:20}\n",
        "dic2={3:30,4:40}\n",
        "dic3={5:50,6:60}\n",
        "dic4={ }\n",
        "for d in (dic1,dic2,dic3):dic4.update(d)\n",
        "print(dic4)"
      ],
      "execution_count": null,
      "outputs": [
        {
          "output_type": "stream",
          "text": [
            "{1: 10, 2: 20, 3: 30, 4: 40, 5: 50, 6: 60}\n"
          ],
          "name": "stdout"
        }
      ]
    },
    {
      "cell_type": "code",
      "metadata": {
        "id": "Phc7M3j-DAi9",
        "colab_type": "code",
        "colab": {
          "base_uri": "https://localhost:8080/",
          "height": 54
        },
        "outputId": "9b5a1174-7d77-4c8e-db9b-89a76b4e9214"
      },
      "source": [
        "#Expected result:{1:10,2:20,3:30,4:40,5:50,6:60}\n",
        "dic1={1:10,2:20}\n",
        "dic2={3:30,4:40}\n",
        "dic3={5:50,6:60}\n",
        "dic4={ }\n",
        "for d in (dic1,dic2,dic3):dic4.update(d)\n",
        "print(dic4)"
      ],
      "execution_count": null,
      "outputs": [
        {
          "output_type": "stream",
          "text": [
            "{1: 10, 2: 20, 3: 30, 4: 40, 5: 50, 6: 60}\n"
          ],
          "name": "stdout"
        }
      ]
    },
    {
      "cell_type": "code",
      "metadata": {
        "id": "ltPsfy4cDm3K",
        "colab_type": "code",
        "colab": {
          "base_uri": "https://localhost:8080/",
          "height": 34
        },
        "outputId": "de445f14-fbe1-46ea-a336-ad49a10b7e45"
      },
      "source": [
        "#To create a tuple\n",
        "x=()\n",
        "print(x)"
      ],
      "execution_count": null,
      "outputs": [
        {
          "output_type": "stream",
          "text": [
            "()\n"
          ],
          "name": "stdout"
        }
      ]
    },
    {
      "cell_type": "code",
      "metadata": {
        "id": "yzMlybjTECXR",
        "colab_type": "code",
        "colab": {
          "base_uri": "https://localhost:8080/",
          "height": 34
        },
        "outputId": "a07dcd8f-faba-44ee-d8a6-8d0c44a90dc3"
      },
      "source": [
        "#To create a tuple with different data types\n",
        "tuplex=(\"tuple\",True,4.3,1)\n",
        "print(tuplex)"
      ],
      "execution_count": null,
      "outputs": [
        {
          "output_type": "stream",
          "text": [
            "('tuple', True, 4.3, 1)\n"
          ],
          "name": "stdout"
        }
      ]
    },
    {
      "cell_type": "code",
      "metadata": {
        "id": "PxuzqB6IE4Pj",
        "colab_type": "code",
        "colab": {
          "base_uri": "https://localhost:8080/",
          "height": 34
        },
        "outputId": "a80e93e4-e2fc-42da-8fb8-eb045eb70caa"
      },
      "source": [
        "#To convert a tuple to a string\n",
        "tup=('N','a','n','d','u')\n",
        "str= ''.join(tup)\n",
        "print(str)"
      ],
      "execution_count": null,
      "outputs": [
        {
          "output_type": "stream",
          "text": [
            "Nandu\n"
          ],
          "name": "stdout"
        }
      ]
    },
    {
      "cell_type": "code",
      "metadata": {
        "id": "DcRjS5ZFFvZD",
        "colab_type": "code",
        "colab": {
          "base_uri": "https://localhost:8080/",
          "height": 34
        },
        "outputId": "bd2d7e7a-fca9-4241-a4ab-63f089e05826"
      },
      "source": [
        "#To slice a tuple\n",
        "tuplex=('N','a','n','d','u')\n",
        "_slice=tuplex[2:]\n",
        "print(_slice)"
      ],
      "execution_count": null,
      "outputs": [
        {
          "output_type": "stream",
          "text": [
            "('n', 'd', 'u')\n"
          ],
          "name": "stdout"
        }
      ]
    },
    {
      "cell_type": "code",
      "metadata": {
        "id": "8sabmVN6GQx9",
        "colab_type": "code",
        "colab": {
          "base_uri": "https://localhost:8080/",
          "height": 51
        },
        "outputId": "eb844625-c383-471a-d0fc-b1b321b5c6a1"
      },
      "source": [
        "#Length of a tulle\n",
        "tuplex=tuple(\"python\")\n",
        "print(tuplex)\n",
        "print(len(tuplex))"
      ],
      "execution_count": null,
      "outputs": [
        {
          "output_type": "stream",
          "text": [
            "('p', 'y', 't', 'h', 'o', 'n')\n",
            "6\n"
          ],
          "name": "stdout"
        }
      ]
    },
    {
      "cell_type": "code",
      "metadata": {
        "id": "BOcRA-EsHLI1",
        "colab_type": "code",
        "colab": {
          "base_uri": "https://localhost:8080/",
          "height": 34
        },
        "outputId": "79ac5d25-a678-4d14-f93a-75e4bbdd7dbd"
      },
      "source": [
        "#Convert a tuple to dictionary\n",
        "tuplex=((1,\"N\"),(4,\"a\"))\n",
        "print(dict((y,x) for x,y in tuplex))"
      ],
      "execution_count": null,
      "outputs": [
        {
          "output_type": "stream",
          "text": [
            "{'N': 1, 'a': 4}\n"
          ],
          "name": "stdout"
        }
      ]
    },
    {
      "cell_type": "code",
      "metadata": {
        "id": "qAuIlROVIoFV",
        "colab_type": "code",
        "colab": {
          "base_uri": "https://localhost:8080/",
          "height": 34
        },
        "outputId": "e935c301-cac0-40e4-8338-1841e3dbde5b"
      },
      "source": [
        "#To reverse a tuple\n",
        "x=(5,10,15,20)\n",
        "y=reversed(x)\n",
        "print(tuple(y))"
      ],
      "execution_count": null,
      "outputs": [
        {
          "output_type": "stream",
          "text": [
            "(20, 15, 10, 5)\n"
          ],
          "name": "stdout"
        }
      ]
    },
    {
      "cell_type": "code",
      "metadata": {
        "id": "ygwV23nII9nw",
        "colab_type": "code",
        "colab": {
          "base_uri": "https://localhost:8080/",
          "height": 54
        },
        "outputId": "2afd6103-0fca-4e12-c6e8-9ba6ab6887e5"
      },
      "source": [
        "#Convert a list of tuples in to a dictionary\n",
        "l=[(\"N\",1),(\"a\",2),(\"n\",3),(\"d\",4),(\"u\",5)]\n",
        "d={ }\n",
        "for a,b in l:\n",
        "     d.setdefault(a,[]).append(b)\n",
        "print(d)"
      ],
      "execution_count": null,
      "outputs": [
        {
          "output_type": "stream",
          "text": [
            "{'N': [1], 'a': [2], 'n': [3], 'd': [4], 'u': [5]}\n"
          ],
          "name": "stdout"
        }
      ]
    },
    {
      "cell_type": "code",
      "metadata": {
        "id": "16jsiP05Jh-C",
        "colab_type": "code",
        "colab": {
          "base_uri": "https://localhost:8080/"
        },
        "outputId": "0571d256-0340-4538-80ba-edf419146a0f"
      },
      "source": [
        "#Convert list to tuple\n",
        "listx=[5,10,7,4,15,3]\n",
        "tuplex=tuple(listx)\n",
        "print(tuplex)"
      ],
      "execution_count": null,
      "outputs": [
        {
          "output_type": "stream",
          "text": [
            "(5, 10, 7, 4, 15, 3)\n"
          ],
          "name": "stdout"
        }
      ]
    }
  ]
}