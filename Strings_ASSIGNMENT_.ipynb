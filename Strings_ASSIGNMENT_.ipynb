{
  "nbformat": 4,
  "nbformat_minor": 0,
  "metadata": {
    "colab": {
      "name": "Strings ASSIGNMENT .ipynb",
      "provenance": [],
      "authorship_tag": "ABX9TyOFLFQg314TsY3X+uKNTDzt",
      "include_colab_link": true
    },
    "kernelspec": {
      "name": "python3",
      "display_name": "Python 3"
    }
  },
  "cells": [
    {
      "cell_type": "markdown",
      "metadata": {
        "id": "view-in-github",
        "colab_type": "text"
      },
      "source": [
        "<a href=\"https://colab.research.google.com/github/Nandini254/7027/blob/master/Strings_ASSIGNMENT_.ipynb\" target=\"_parent\"><img src=\"https://colab.research.google.com/assets/colab-badge.svg\" alt=\"Open In Colab\"/></a>"
      ]
    },
    {
      "cell_type": "code",
      "metadata": {
        "id": "vEugaQEdL6zl",
        "colab_type": "code",
        "colab": {
          "base_uri": "https://localhost:8080/",
          "height": 51
        },
        "outputId": "d0d9890d-73a9-4180-c33a-e88e3ecf522e"
      },
      "source": [
        "#Length of a string\n",
        "str=input(\"Enter the string:\")\n",
        "print(\"Length of the input string is:\",len(str))"
      ],
      "execution_count": null,
      "outputs": [
        {
          "output_type": "stream",
          "text": [
            "Enter the string:Python\n",
            "Length of the input string is: 6\n"
          ],
          "name": "stdout"
        }
      ]
    },
    {
      "cell_type": "code",
      "metadata": {
        "id": "ICRgxmI3Vd72",
        "colab_type": "code",
        "colab": {}
      },
      "source": [
        ""
      ],
      "execution_count": null,
      "outputs": []
    },
    {
      "cell_type": "code",
      "metadata": {
        "id": "KNMtzzg-NUDI",
        "colab_type": "code",
        "colab": {
          "base_uri": "https://localhost:8080/",
          "height": 54
        },
        "outputId": "2ec4d275-56f9-4e48-e170-4d411808ca68"
      },
      "source": [
        "#Character Frequency\n",
        "def char_frequency(str1):\n",
        "    dict={ }\n",
        "    for n in str1:\n",
        "        keys=dict.keys()\n",
        "        if n in keys:\n",
        "            dict[n]+=1\n",
        "        else:\n",
        "            dict[n]=1\n",
        "    return dict\n",
        "print(char_frequency('google.com'))"
      ],
      "execution_count": null,
      "outputs": [
        {
          "output_type": "stream",
          "text": [
            "{'g': 2, 'o': 3, 'l': 1, 'e': 1, '.': 1, 'c': 1, 'm': 1}\n"
          ],
          "name": "stdout"
        }
      ]
    },
    {
      "cell_type": "code",
      "metadata": {
        "id": "W2Kvy178VkTP",
        "colab_type": "code",
        "colab": {
          "base_uri": "https://localhost:8080/",
          "height": 34
        },
        "outputId": "655d816d-c695-41b7-b23a-612f94adba77"
      },
      "source": [
        "#To get a single string from two strings\n",
        "def chars_mix_up(a,b):\n",
        "    new_a=b[:2]+a[2:]\n",
        "    new_b=a[:2]+b[2:]\n",
        "    return new_a+' '+new_b\n",
        "print(chars_mix_up('abc','xyz'))"
      ],
      "execution_count": null,
      "outputs": [
        {
          "output_type": "stream",
          "text": [
            "xyc abz\n"
          ],
          "name": "stdout"
        }
      ]
    },
    {
      "cell_type": "code",
      "metadata": {
        "id": "-ZFURR4PYD27",
        "colab_type": "code",
        "colab": {
          "base_uri": "https://localhost:8080/",
          "height": 89
        },
        "outputId": "67083ad7-d116-4379-a9e4-ee16f2966e6d"
      },
      "source": [
        "#String display in upper and lower case\n",
        "user_input=input(\"What's your favourite language?\")\n",
        "print(\"My favourite language is\",user_input.upper())\n",
        "print(\"My favourite language is\",user_input.lower())"
      ],
      "execution_count": null,
      "outputs": [
        {
          "output_type": "stream",
          "text": [
            "What's your favourite language?Maths\n",
            "My favourite language is MATHS\n",
            "My favourite language is maths\n"
          ],
          "name": "stdout"
        }
      ]
    },
    {
      "cell_type": "code",
      "metadata": {
        "id": "uVWURiRnZdoY",
        "colab_type": "code",
        "colab": {
          "base_uri": "https://localhost:8080/",
          "height": 69
        },
        "outputId": "17e09a6c-b20d-46c1-a3a7-60a31f9ed023"
      },
      "source": [
        "#To remove a newline in python\n",
        "str1='Python Exercise\\n'\n",
        "print(str1)\n",
        "print(str1.rstrip())"
      ],
      "execution_count": null,
      "outputs": [
        {
          "output_type": "stream",
          "text": [
            "Python Exercise\n",
            "\n",
            "Python Exercise\n"
          ],
          "name": "stdout"
        }
      ]
    },
    {
      "cell_type": "code",
      "metadata": {
        "id": "EZd6yn0qWYEb",
        "colab_type": "code",
        "colab": {
          "base_uri": "https://localhost:8080/"
        },
        "outputId": "19787b92-76d1-44e1-cc3b-fee303432113"
      },
      "source": [
        "#To count occurrence of a substring in a string\n",
        "str1='The quick brown fox jumps over the lazy dog.'\n",
        "print()\n",
        "print(str1.count(\"fox\"))\n",
        "print()"
      ],
      "execution_count": null,
      "outputs": [
        {
          "output_type": "stream",
          "text": [
            "\n",
            "1\n",
            "\n"
          ],
          "name": "stdout"
        }
      ]
    },
    {
      "cell_type": "code",
      "metadata": {
        "id": "cOB5QqR5mlhB",
        "colab_type": "code",
        "colab": {
          "base_uri": "https://localhost:8080/",
          "height": 138
        },
        "outputId": "b5b5fbb5-f0f4-415c-bda9-7504380334b4"
      },
      "source": [
        "#To print character of a string using loop\n",
        "x=input(\"Enter the string\")\n",
        "for i in x:\n",
        "   print(i)"
      ],
      "execution_count": null,
      "outputs": [
        {
          "output_type": "stream",
          "text": [
            "Enter the stringPython\n",
            "P\n",
            "y\n",
            "t\n",
            "h\n",
            "o\n",
            "n\n"
          ],
          "name": "stdout"
        }
      ]
    },
    {
      "cell_type": "code",
      "metadata": {
        "id": "GOFiaGL6eZqB",
        "colab_type": "code",
        "colab": {
          "base_uri": "https://localhost:8080/",
          "height": 54
        },
        "outputId": "01772c59-dffe-4630-ba38-042c2d0f01bc"
      },
      "source": [
        "#Convert a string in a list\n",
        "str1='Apple,Mango,Banana'\n",
        "print(f'List of Items={str1.split(\",\")}')"
      ],
      "execution_count": null,
      "outputs": [
        {
          "output_type": "stream",
          "text": [
            "List of Items=['Apple', 'Mango', 'Banana']\n"
          ],
          "name": "stdout"
        }
      ]
    },
    {
      "cell_type": "code",
      "metadata": {
        "id": "fH9QLNLaGapB",
        "colab_type": "code",
        "colab": {
          "base_uri": "https://localhost:8080/",
          "height": 34
        },
        "outputId": "424cc0d8-8509-4440-b9c1-de05860d7cda"
      },
      "source": [
        "#To deletion of a character\n",
        "a=[1,2,3,4,5,6]\n",
        "del a[1:3]\n",
        "print(a)"
      ],
      "execution_count": 1,
      "outputs": [
        {
          "output_type": "stream",
          "text": [
            "[1, 4, 5, 6]\n"
          ],
          "name": "stdout"
        }
      ]
    },
    {
      "cell_type": "code",
      "metadata": {
        "id": "8W0AN2M4m5My",
        "colab_type": "code",
        "colab": {
          "base_uri": "https://localhost:8080/",
          "height": 34
        },
        "outputId": "a5eb1d0e-6430-4e13-d9c6-2f08a71aff59"
      },
      "source": [
        "#To find the length without using len function\n",
        "a=\"refrigerator\"\n",
        "count=0\n",
        "for i in a:\n",
        "    count=count+1\n",
        "print(count)"
      ],
      "execution_count": null,
      "outputs": [
        {
          "output_type": "stream",
          "text": [
            "12\n"
          ],
          "name": "stdout"
        }
      ]
    }
  ]
}